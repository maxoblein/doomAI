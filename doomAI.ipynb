{
 "cells": [
  {
   "cell_type": "markdown",
   "metadata": {},
   "source": [
    "Using reinforcement learning to teach AI to play doom"
   ]
  },
  {
   "cell_type": "markdown",
   "metadata": {},
   "source": [
    "Get vizdoom up and running"
   ]
  },
  {
   "cell_type": "code",
   "execution_count": 2,
   "metadata": {},
   "outputs": [
    {
     "name": "stdout",
     "output_type": "stream",
     "text": [
      "Collecting vizdoom\n",
      "  Downloading https://files.pythonhosted.org/packages/6c/5e/234be5c3611b1d426a2a320e142ac0848a3236d83122d2f8d81708e77d7b/vizdoom-1.1.13-cp38-cp38-win_amd64.whl (15.4MB)\n",
      "Collecting numpy (from vizdoom)\n",
      "  Using cached https://files.pythonhosted.org/packages/fa/f2/f4ec28f935f980167740c5af5a1908090a48a564bed5e689f4b92386d7d9/numpy-1.22.3-cp38-cp38-win_amd64.whl\n",
      "Installing collected packages: numpy, vizdoom\n",
      "Successfully installed numpy-1.22.3 vizdoom-1.1.13\n"
     ]
    },
    {
     "name": "stderr",
     "output_type": "stream",
     "text": [
      "WARNING: You are using pip version 19.2.3, however version 22.0.4 is available.\n",
      "You should consider upgrading via the 'python -m pip install --upgrade pip' command.\n"
     ]
    }
   ],
   "source": [
    "!pip install vizdoom"
   ]
  },
  {
   "cell_type": "markdown",
   "metadata": {},
   "source": [
    "Remeber to clone the Vizdoom gihub for setup files"
   ]
  },
  {
   "cell_type": "markdown",
   "metadata": {},
   "source": [
    "Import dependencies"
   ]
  },
  {
   "cell_type": "code",
   "execution_count": 6,
   "metadata": {},
   "outputs": [],
   "source": [
    "from vizdoom import *\n",
    "import random\n",
    "import time\n",
    "import numpy as np"
   ]
  },
  {
   "cell_type": "markdown",
   "metadata": {},
   "source": [
    "initialise game"
   ]
  },
  {
   "cell_type": "code",
   "execution_count": 13,
   "metadata": {},
   "outputs": [],
   "source": [
    "#setup\n",
    "game = DoomGame()\n",
    "game.load_config('github/ViZDoom/scenarios/basic.cfg')\n",
    "game.init()"
   ]
  },
  {
   "cell_type": "code",
   "execution_count": 7,
   "metadata": {},
   "outputs": [
    {
     "data": {
      "text/plain": [
       "array([[1, 0, 0],\n",
       "       [0, 1, 0],\n",
       "       [0, 0, 1]], dtype=uint8)"
      ]
     },
     "execution_count": 7,
     "metadata": {},
     "output_type": "execute_result"
    }
   ],
   "source": [
    "#actions we can take\n",
    "actions = np.identity(3, dtype=np.uint8)\n",
    "actions"
   ]
  },
  {
   "cell_type": "code",
   "execution_count": 8,
   "metadata": {},
   "outputs": [
    {
     "data": {
      "text/plain": [
       "array([0, 0, 1], dtype=uint8)"
      ]
     },
     "execution_count": 8,
     "metadata": {},
     "output_type": "execute_result"
    }
   ],
   "source": [
    "#random before agent training\n",
    "random.choice(actions)"
   ]
  },
  {
   "cell_type": "code",
   "execution_count": 9,
   "metadata": {},
   "outputs": [
    {
     "data": {
      "text/plain": [
       "False"
      ]
     },
     "execution_count": 9,
     "metadata": {},
     "output_type": "execute_result"
    }
   ],
   "source": [
    "game.new_episode()\n",
    "game.is_episode_finished()"
   ]
  },
  {
   "cell_type": "code",
   "execution_count": 14,
   "metadata": {},
   "outputs": [
    {
     "name": "stdout",
     "output_type": "stream",
     "text": [
      "reward:  -4.0\n",
      "reward:  -4.0\n",
      "reward:  -4.0\n",
      "reward:  -9.0\n",
      "reward:  -4.0\n",
      "reward:  -4.0\n",
      "reward:  -4.0\n",
      "reward:  -4.0\n",
      "reward:  -4.0\n",
      "reward:  -9.0\n",
      "reward:  -4.0\n",
      "reward:  -4.0\n",
      "reward:  -4.0\n",
      "reward:  -4.0\n",
      "reward:  -4.0\n",
      "reward:  -4.0\n",
      "reward:  -4.0\n",
      "reward:  -4.0\n",
      "reward:  -9.0\n",
      "reward:  -4.0\n",
      "reward:  -4.0\n",
      "reward:  -4.0\n",
      "reward:  -9.0\n",
      "reward:  -4.0\n",
      "reward:  -4.0\n",
      "reward:  -4.0\n",
      "reward:  -4.0\n",
      "reward:  -4.0\n",
      "reward:  -4.0\n",
      "reward:  -4.0\n",
      "reward:  -4.0\n",
      "reward:  -4.0\n",
      "reward:  -4.0\n",
      "reward:  -4.0\n",
      "reward:  -4.0\n",
      "reward:  -9.0\n",
      "reward:  -4.0\n",
      "reward:  -4.0\n",
      "reward:  -4.0\n",
      "reward:  -9.0\n",
      "reward:  -4.0\n",
      "reward:  -4.0\n",
      "reward:  -4.0\n",
      "reward:  -4.0\n",
      "reward:  -4.0\n",
      "reward:  -9.0\n",
      "reward:  -4.0\n",
      "reward:  -4.0\n",
      "reward:  -4.0\n",
      "reward:  -4.0\n",
      "reward:  -4.0\n",
      "reward:  -4.0\n",
      "reward:  -9.0\n",
      "reward:  -4.0\n",
      "reward:  -4.0\n",
      "reward:  97.0\n",
      "Result:  -163.0\n",
      "reward:  -4.0\n",
      "reward:  -4.0\n",
      "reward:  -4.0\n",
      "reward:  99.0\n",
      "Result:  87.0\n",
      "reward:  -4.0\n",
      "reward:  -4.0\n",
      "reward:  -9.0\n",
      "reward:  -4.0\n",
      "reward:  -4.0\n",
      "reward:  -9.0\n",
      "reward:  -4.0\n",
      "reward:  -4.0\n",
      "reward:  -4.0\n",
      "reward:  -4.0\n",
      "reward:  -4.0\n",
      "reward:  -9.0\n",
      "reward:  -4.0\n",
      "reward:  -4.0\n",
      "reward:  -4.0\n",
      "reward:  97.0\n",
      "reward:  -1.0\n",
      "Result:  21.0\n",
      "reward:  -4.0\n",
      "reward:  -4.0\n",
      "reward:  -4.0\n",
      "reward:  -9.0\n",
      "reward:  -4.0\n",
      "reward:  -4.0\n",
      "reward:  -4.0\n",
      "reward:  -4.0\n",
      "reward:  -4.0\n",
      "reward:  -9.0\n",
      "reward:  -4.0\n",
      "reward:  -4.0\n",
      "reward:  -4.0\n",
      "reward:  -4.0\n",
      "reward:  -9.0\n",
      "reward:  -4.0\n",
      "reward:  -4.0\n",
      "reward:  -9.0\n",
      "reward:  -4.0\n",
      "reward:  -4.0\n",
      "reward:  -4.0\n",
      "reward:  -9.0\n",
      "reward:  -4.0\n"
     ]
    },
    {
     "ename": "KeyboardInterrupt",
     "evalue": "",
     "output_type": "error",
     "traceback": [
      "\u001b[1;31m---------------------------------------------------------------------------\u001b[0m",
      "\u001b[1;31mKeyboardInterrupt\u001b[0m                         Traceback (most recent call last)",
      "\u001b[1;32mc:\\Users\\Max Oblein\\Documents\\Python Scripts\\doomAI\\doomAI.ipynb Cell 12'\u001b[0m in \u001b[0;36m<cell line: 4>\u001b[1;34m()\u001b[0m\n\u001b[0;32m     <a href='vscode-notebook-cell:/c%3A/Users/Max%20Oblein/Documents/Python%20Scripts/doomAI/doomAI.ipynb#ch0000011?line=14'>15</a>\u001b[0m     \u001b[39m#print action reward\u001b[39;00m\n\u001b[0;32m     <a href='vscode-notebook-cell:/c%3A/Users/Max%20Oblein/Documents/Python%20Scripts/doomAI/doomAI.ipynb#ch0000011?line=15'>16</a>\u001b[0m     \u001b[39mprint\u001b[39m(\u001b[39m'\u001b[39m\u001b[39mreward: \u001b[39m\u001b[39m'\u001b[39m,reward)\n\u001b[1;32m---> <a href='vscode-notebook-cell:/c%3A/Users/Max%20Oblein/Documents/Python%20Scripts/doomAI/doomAI.ipynb#ch0000011?line=16'>17</a>\u001b[0m     time\u001b[39m.\u001b[39;49msleep(\u001b[39m0.02\u001b[39;49m)\n\u001b[0;32m     <a href='vscode-notebook-cell:/c%3A/Users/Max%20Oblein/Documents/Python%20Scripts/doomAI/doomAI.ipynb#ch0000011?line=17'>18</a>\u001b[0m \u001b[39mprint\u001b[39m(\u001b[39m'\u001b[39m\u001b[39mResult: \u001b[39m\u001b[39m'\u001b[39m,game\u001b[39m.\u001b[39mget_total_reward())\n\u001b[0;32m     <a href='vscode-notebook-cell:/c%3A/Users/Max%20Oblein/Documents/Python%20Scripts/doomAI/doomAI.ipynb#ch0000011?line=18'>19</a>\u001b[0m time\u001b[39m.\u001b[39msleep(\u001b[39m2\u001b[39m)\n",
      "\u001b[1;31mKeyboardInterrupt\u001b[0m: "
     ]
    }
   ],
   "source": [
    "#loop to play game randomly\n",
    "game.new_episode()\n",
    "episodes = 10\n",
    "for episode in range(episodes):\n",
    "    game.new_episode()\n",
    "    while not game.is_episode_finished():\n",
    "        #get the game state\n",
    "        state = game.get_state()\n",
    "        #get game image\n",
    "        img = state.screen_buffer\n",
    "        #get game variables (ammo)\n",
    "        info = state.game_variables\n",
    "        #take random action\n",
    "        reward = game.make_action(random.choice(actions),4)\n",
    "        #print action reward\n",
    "        print('reward: ',reward)\n",
    "        time.sleep(0.02)\n",
    "    print('Result: ',game.get_total_reward())\n",
    "    time.sleep(2)"
   ]
  },
  {
   "cell_type": "code",
   "execution_count": 15,
   "metadata": {},
   "outputs": [],
   "source": [
    "game.close()"
   ]
  }
 ],
 "metadata": {
  "interpreter": {
   "hash": "948a2e6ead2641209eb581547a9a098185fbc4551a97c15d4e0ef75a8d8e073a"
  },
  "kernelspec": {
   "display_name": "Python 3.8.3 ('doomai': venv)",
   "language": "python",
   "name": "python3"
  },
  "language_info": {
   "codemirror_mode": {
    "name": "ipython",
    "version": 3
   },
   "file_extension": ".py",
   "mimetype": "text/x-python",
   "name": "python",
   "nbconvert_exporter": "python",
   "pygments_lexer": "ipython3",
   "version": "3.8.3"
  },
  "orig_nbformat": 4
 },
 "nbformat": 4,
 "nbformat_minor": 2
}
